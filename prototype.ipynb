{
 "cells": [
  {
   "cell_type": "code",
   "execution_count": 42,
   "metadata": {},
   "outputs": [],
   "source": [
    "import torch\n",
    "from torchvision import transforms\n",
    "from torch.utils.data import Dataset\n",
    "import torch.nn as nn\n",
    "import torch.nn.functional as F\n",
    "from torch.autograd import Function\n",
    "import torch.utils.model_zoo as model_zoo\n",
    "\n",
    "from easydict import EasyDict\n",
    "\n",
    "import os\n",
    "from glob import glob\n",
    "import pickle\n",
    "import random\n",
    "import math\n",
    "\n",
    "import cv2\n",
    "import numpy as np\n",
    "import pandas as pd\n",
    "\n",
    "\n",
    "from sklearn.model_selection import train_test_split\n",
    "from sklearn.metrics import accuracy_score"
   ]
  },
  {
   "cell_type": "code",
   "execution_count": 2,
   "metadata": {},
   "outputs": [
    {
     "data": {
      "text/plain": [
       "'4.5.4-dev'"
      ]
     },
     "execution_count": 2,
     "metadata": {},
     "output_type": "execute_result"
    }
   ],
   "source": [
    "cv2.__version__"
   ]
  },
  {
   "cell_type": "code",
   "execution_count": 3,
   "metadata": {},
   "outputs": [],
   "source": [
    "base_path = \"kfood\""
   ]
  },
  {
   "cell_type": "code",
   "execution_count": 4,
   "metadata": {},
   "outputs": [],
   "source": [
    "food_list = os.listdir(base_path)"
   ]
  },
  {
   "cell_type": "code",
   "execution_count": 5,
   "metadata": {},
   "outputs": [
    {
     "data": {
      "text/plain": [
       "['train0.csv',\n",
       " 'train1.csv',\n",
       " 'train2.csv',\n",
       " '구이',\n",
       " '국',\n",
       " '기타',\n",
       " '김치',\n",
       " '나물',\n",
       " '떡',\n",
       " '만두',\n",
       " '면',\n",
       " '무침',\n",
       " '밥',\n",
       " '볶음',\n",
       " '쌈',\n",
       " '음청류',\n",
       " '장',\n",
       " '장아찌',\n",
       " '적',\n",
       " '전',\n",
       " '전골',\n",
       " '조림',\n",
       " '죽',\n",
       " '찌개',\n",
       " '찜',\n",
       " '탕',\n",
       " '튀김',\n",
       " '한과',\n",
       " '해물',\n",
       " '회']"
      ]
     },
     "execution_count": 5,
     "metadata": {},
     "output_type": "execute_result"
    }
   ],
   "source": [
    "food_list"
   ]
  },
  {
   "cell_type": "code",
   "execution_count": 6,
   "metadata": {},
   "outputs": [],
   "source": [
    "def CV_READ(filePath, mode) : \n",
    "    stream = open( filePath.encode(\"utf-8\") , \"rb\") \n",
    "    bytes = bytearray(stream.read()) \n",
    "    numpyArray = np.asarray(bytes, dtype=np.uint8) \n",
    "    # cv2.IMREAD_UNCHANGED\n",
    "    return cv2.imdecode(numpyArray , mode)"
   ]
  },
  {
   "cell_type": "code",
   "execution_count": 9,
   "metadata": {},
   "outputs": [],
   "source": [
    "small_to_large_dict = dict()\n",
    "small_category_id_dict = dict()\n",
    "for large_category in food_list[3:] :\n",
    "  for s in os.listdir(os.path.join(base_path, large_category, large_category)) :\n",
    "    i = glob.glob(os.path.join(base_path, large_category, large_category, s) + '/*.jpg')\n",
    "    i2 = glob.glob(os.path.join(base_path, large_category, large_category, s) +'/*.png')\n",
    "    if i :\n",
    "        img = i[0]\n",
    "        img = os.path.basename(img)\n",
    "        id = img.split('_')[1]\n",
    "    elif i2 :\n",
    "        img = os.path.basename(img2)\n",
    "        img = i2[0]\n",
    "        id = img.split('_')[1]\n",
    "    else :\n",
    "        id = -1\n",
    "    small_to_large_dict[s] = large_category\n",
    "    small_category_id_dict[s] = id\n",
    "\n",
    "\n",
    "small_category_path_dict = dict()\n",
    "for idx, category_name in enumerate(small_category_id_dict) : \n",
    "  large_category = small_to_large_dict[category_name]\n",
    "  small_category_path_dict[category_name] = os.path.join(base_path, large_category, large_category, category_name)"
   ]
  },
  {
   "cell_type": "code",
   "execution_count": 10,
   "metadata": {},
   "outputs": [],
   "source": [
    "def resolution_key_with_channel(x, y, z) : \n",
    "  return str(str(x)+'X'+str(y)+'X'+str(z))\n",
    "def resolution_key(x, y) : \n",
    "  return str(str(x)+'X'+str(y))"
   ]
  },
  {
   "cell_type": "code",
   "execution_count": 12,
   "metadata": {},
   "outputs": [],
   "source": [
    "resolution_dict_with_channel = dict()\n",
    "resolution_dict = dict()\n",
    "small_category_count_dict = dict()\n",
    "None_case_list = []\n",
    "None_case = 0\n",
    "smallest_X = 99999\n",
    "smallest_Y = 99999\n",
    "x_path = ''\n",
    "y_path = ''\n",
    "for small_category in small_category_path_dict : \n",
    "  img_list = glob.glob(small_category_path_dict[small_category] + '/*')\n",
    "  for img in img_list :\n",
    "    root, ext = os.path.splitext(img)\n",
    "    if ext not in ['.jpg', '.png', 'jpeg'] :\n",
    "      continue\n",
    "    image = CV_READ(img, mode=cv2.IMREAD_COLOR)\n",
    "    if image is None : \n",
    "      None_case += 1\n",
    "      None_case_list.append(img)\n",
    "      continue\n",
    "    height, width, channel = image.shape\n",
    "    #height, width = image.size\n",
    "    if height <= smallest_X : \n",
    "        smallest_X = height\n",
    "        x_path = img\n",
    "    if width <= smallest_Y :\n",
    "        smallest_Y = width\n",
    "        y_path = img\n",
    "    key = resolution_key(height, width)\n",
    "    key_with_c = resolution_key_with_channel(height, width, channel)\n",
    "    if key in resolution_dict : \n",
    "      resolution_dict[key] += 1\n",
    "    else :\n",
    "      resolution_dict[key] = 1\n",
    "\n",
    "    if key_with_c in resolution_dict_with_channel : \n",
    "      resolution_dict_with_channel[key_with_c] += 1\n",
    "    else :\n",
    "      resolution_dict_with_channel[key_with_c] = 1\n",
    "\n",
    "    if small_category in small_category_count_dict : \n",
    "      small_category_count_dict[small_category] += 1\n",
    "    else : \n",
    "      small_category_count_dict[small_category] = 1"
   ]
  },
  {
   "cell_type": "code",
   "execution_count": 47,
   "metadata": {},
   "outputs": [
    {
     "name": "stdout",
     "output_type": "stream",
     "text": [
      "230\n",
      "['kfood\\\\구이\\\\구이\\\\갈비구이\\\\Img_000_0145.jpg', 'kfood\\\\구이\\\\구이\\\\갈비구이\\\\Img_000_0197.jpg', 'kfood\\\\구이\\\\구이\\\\갈비구이\\\\Img_000_0215.jpg', 'kfood\\\\구이\\\\구이\\\\갈비구이\\\\Img_000_0253.jpg', 'kfood\\\\구이\\\\구이\\\\갈치구이\\\\Img_001_0067.jpg', 'kfood\\\\구이\\\\구이\\\\갈치구이\\\\Img_001_0286.jpg', 'kfood\\\\구이\\\\구이\\\\갈치구이\\\\Img_001_0355.jpg', 'kfood\\\\구이\\\\구이\\\\닭갈비\\\\Img_004_0483.jpg', 'kfood\\\\구이\\\\구이\\\\닭갈비\\\\Img_004_0533.jpg', 'kfood\\\\구이\\\\구이\\\\불고기\\\\Img_007_0578.jpg', 'kfood\\\\구이\\\\구이\\\\불고기\\\\Img_007_0597.jpg', 'kfood\\\\구이\\\\구이\\\\삼겹살\\\\Img_008_0433.jpg', 'kfood\\\\구이\\\\구이\\\\삼겹살\\\\Img_008_0460.jpg', 'kfood\\\\구이\\\\구이\\\\삼겹살\\\\Img_008_0488.jpg', 'kfood\\\\구이\\\\구이\\\\삼겹살\\\\Img_008_0563.jpg', 'kfood\\\\구이\\\\구이\\\\장어구이\\\\Img_009_0394.jpg', 'kfood\\\\구이\\\\구이\\\\장어구이\\\\Img_009_0437.jpg', 'kfood\\\\구이\\\\구이\\\\황태구이\\\\Img_012_0159.jpg', 'kfood\\\\구이\\\\구이\\\\황태구이\\\\Img_012_0266.jpg', 'kfood\\\\구이\\\\구이\\\\황태구이\\\\Img_012_0324.jpg', 'kfood\\\\구이\\\\구이\\\\훈제오리\\\\Img_013_0214.jpg', 'kfood\\\\국\\\\국\\\\떡국_만두국\\\\Img_015_0294.jpg', 'kfood\\\\국\\\\국\\\\떡국_만두국\\\\Img_015_0320.jpg', 'kfood\\\\국\\\\국\\\\떡국_만두국\\\\Img_015_0503.jpg', 'kfood\\\\국\\\\국\\\\미역국\\\\Img_017_0048.jpg', 'kfood\\\\국\\\\국\\\\미역국\\\\Img_017_0217.jpg', 'kfood\\\\국\\\\국\\\\미역국\\\\Img_017_0300.jpg', 'kfood\\\\국\\\\국\\\\미역국\\\\Img_017_0333.jpg', 'kfood\\\\국\\\\국\\\\북엇국\\\\Img_018_0338.jpg', 'kfood\\\\국\\\\국\\\\시래기국\\\\Img_019_0210.jpg', 'kfood\\\\국\\\\국\\\\시래기국\\\\Img_019_0224.jpg', 'kfood\\\\국\\\\국\\\\시래기국\\\\Img_019_0285.jpg', 'kfood\\\\국\\\\국\\\\시래기국\\\\Img_019_0338.jpg', 'kfood\\\\국\\\\국\\\\시래기국\\\\Img_019_0339.jpg', 'kfood\\\\국\\\\국\\\\육개장\\\\Img_020_0274.jpg', 'kfood\\\\국\\\\국\\\\육개장\\\\Img_020_0321.jpg', 'kfood\\\\국\\\\국\\\\육개장\\\\Img_020_0323.jpg', 'kfood\\\\국\\\\국\\\\콩나물국\\\\Img_021_0369.jpg', 'kfood\\\\국\\\\국\\\\콩나물국\\\\Img_021_0450.jpg', 'kfood\\\\기타\\\\기타\\\\양념치킨\\\\Img_023_0073.jpg', 'kfood\\\\기타\\\\기타\\\\양념치킨\\\\Img_023_0188.jpg', 'kfood\\\\기타\\\\기타\\\\양념치킨\\\\Img_023_0671.jpg', 'kfood\\\\기타\\\\기타\\\\양념치킨\\\\Img_023_0859.jpg', 'kfood\\\\기타\\\\기타\\\\양념치킨\\\\Img_023_0861.jpg', 'kfood\\\\기타\\\\기타\\\\양념치킨\\\\Img_023_0995.jpg', 'kfood\\\\기타\\\\기타\\\\젓갈\\\\Img_024_0021.jpg', 'kfood\\\\기타\\\\기타\\\\젓갈\\\\Img_024_0269.jpg', 'kfood\\\\기타\\\\기타\\\\젓갈\\\\Img_024_0988.jpg', 'kfood\\\\기타\\\\기타\\\\편육\\\\Img_026_0003.jpg', 'kfood\\\\기타\\\\기타\\\\편육\\\\Img_026_0012.jpg', 'kfood\\\\기타\\\\기타\\\\편육\\\\Img_026_0944.jpg', 'kfood\\\\기타\\\\기타\\\\편육\\\\Img_026_0953.jpg', 'kfood\\\\기타\\\\기타\\\\피자\\\\Img_027_0362.jpg', 'kfood\\\\기타\\\\기타\\\\후라이드치킨\\\\Img_028_0106.jpg', 'kfood\\\\기타\\\\기타\\\\후라이드치킨\\\\Img_028_0274.jpg', 'kfood\\\\김치\\\\김치\\\\깍두기\\\\Img_030_0239.jpg', 'kfood\\\\김치\\\\김치\\\\나박김치\\\\Img_031_0021.jpg', 'kfood\\\\김치\\\\김치\\\\나박김치\\\\Img_031_0183.jpg', 'kfood\\\\김치\\\\김치\\\\나박김치\\\\Img_031_0982.jpg', 'kfood\\\\김치\\\\김치\\\\무생채\\\\Img_032_0302.jpg', 'kfood\\\\김치\\\\김치\\\\배추김치\\\\Img_033_0289.jpg', 'kfood\\\\김치\\\\김치\\\\배추김치\\\\Img_033_0303.jpg', 'kfood\\\\김치\\\\김치\\\\백김치\\\\Img_034_0233.jpg', 'kfood\\\\김치\\\\김치\\\\총각김치\\\\Img_038_0264.jpg', 'kfood\\\\김치\\\\김치\\\\총각김치\\\\Img_038_0307.jpg', 'kfood\\\\김치\\\\김치\\\\파김치\\\\Img_039_0189.jpg', 'kfood\\\\나물\\\\나물\\\\고사리나물\\\\Img_041_0085.jpg', 'kfood\\\\나물\\\\나물\\\\숙주나물\\\\Img_043_0010.jpg', 'kfood\\\\나물\\\\나물\\\\숙주나물\\\\Img_043_0014.jpg', 'kfood\\\\나물\\\\나물\\\\숙주나물\\\\Img_043_0063.jpg', 'kfood\\\\나물\\\\나물\\\\숙주나물\\\\Img_043_0070.jpg', 'kfood\\\\나물\\\\나물\\\\숙주나물\\\\Img_043_0949.jpg', 'kfood\\\\나물\\\\나물\\\\숙주나물\\\\Img_043_0953.jpg', 'kfood\\\\떡\\\\떡\\\\꿀떡\\\\Img_047_0209.jpg', 'kfood\\\\떡\\\\떡\\\\꿀떡\\\\Img_047_0762.jpg', 'kfood\\\\떡\\\\떡\\\\꿀떡\\\\Img_047_0836.jpg', 'kfood\\\\면\\\\면\\\\라면\\\\Img_050_0008.jpg', 'kfood\\\\면\\\\면\\\\라면\\\\Img_050_0434.jpg', 'kfood\\\\면\\\\면\\\\라면\\\\Img_050_0467.jpg', 'kfood\\\\면\\\\면\\\\라면\\\\Img_050_0468.jpg', 'kfood\\\\면\\\\면\\\\라면\\\\Img_050_0470.jpg', 'kfood\\\\면\\\\면\\\\라면\\\\Img_050_0506.jpg', 'kfood\\\\면\\\\면\\\\라면\\\\Img_050_0511.jpg', 'kfood\\\\면\\\\면\\\\라면\\\\Img_050_0515.jpg', 'kfood\\\\면\\\\면\\\\라면\\\\Img_050_0640.jpg', 'kfood\\\\면\\\\면\\\\물냉면\\\\Img_052_0036.jpg', 'kfood\\\\면\\\\면\\\\물냉면\\\\Img_052_0270.jpg', 'kfood\\\\면\\\\면\\\\물냉면\\\\Img_052_0278.jpg', 'kfood\\\\면\\\\면\\\\물냉면\\\\Img_052_0326.jpg', 'kfood\\\\면\\\\면\\\\물냉면\\\\Img_052_0373.jpg', 'kfood\\\\면\\\\면\\\\물냉면\\\\Img_052_0439.jpg', 'kfood\\\\면\\\\면\\\\비빔냉면\\\\Img_053_0066.jpg', 'kfood\\\\면\\\\면\\\\비빔냉면\\\\Img_053_0356.jpg', 'kfood\\\\면\\\\면\\\\비빔냉면\\\\Img_053_0384.jpg', 'kfood\\\\면\\\\면\\\\비빔냉면\\\\Img_053_0899.jpg', 'kfood\\\\면\\\\면\\\\수제비\\\\Img_054_0062.jpg', 'kfood\\\\면\\\\면\\\\수제비\\\\Img_054_0064.jpg', 'kfood\\\\면\\\\면\\\\수제비\\\\Img_054_0097.jpg', 'kfood\\\\면\\\\면\\\\수제비\\\\Img_054_0704.jpg', 'kfood\\\\면\\\\면\\\\수제비\\\\Img_054_0751.jpg', 'kfood\\\\면\\\\면\\\\수제비\\\\Img_054_0800.jpg', 'kfood\\\\면\\\\면\\\\수제비\\\\Img_054_0817.jpg', 'kfood\\\\면\\\\면\\\\수제비\\\\Img_054_0878.jpg', 'kfood\\\\면\\\\면\\\\수제비\\\\Img_054_0911.jpg', 'kfood\\\\면\\\\면\\\\열무국수\\\\Img_055_0334.jpg', 'kfood\\\\면\\\\면\\\\잔치국수\\\\Img_056_0341.jpg', 'kfood\\\\면\\\\면\\\\잔치국수\\\\Img_056_0414.jpg', 'kfood\\\\면\\\\면\\\\잔치국수\\\\Img_056_0477.jpg', 'kfood\\\\면\\\\면\\\\짜장면\\\\Img_057_0251.jpg', 'kfood\\\\면\\\\면\\\\짜장면\\\\Img_057_0378.jpg', 'kfood\\\\면\\\\면\\\\짜장면\\\\Img_057_0393.jpg', 'kfood\\\\면\\\\면\\\\짬뽕\\\\Img_058_0090.jpg', 'kfood\\\\면\\\\면\\\\짬뽕\\\\Img_058_0529.jpg', 'kfood\\\\면\\\\면\\\\짬뽕\\\\Img_058_0554.jpg', 'kfood\\\\면\\\\면\\\\짬뽕\\\\Img_058_0577.jpg', 'kfood\\\\면\\\\면\\\\칼국수\\\\Img_060_0362.jpg', 'kfood\\\\면\\\\면\\\\콩국수\\\\Img_061_0240.jpg', 'kfood\\\\면\\\\면\\\\콩국수\\\\Img_061_0355.jpg', 'kfood\\\\면\\\\면\\\\콩국수\\\\Img_061_0358.jpg', 'kfood\\\\무침\\\\무침\\\\도라지무침\\\\Img_063_0205.jpg', 'kfood\\\\무침\\\\무침\\\\도토리묵\\\\Img_064_0169.jpg', 'kfood\\\\무침\\\\무침\\\\콩나물무침\\\\Img_066_0254.jpg', 'kfood\\\\밥\\\\밥\\\\김밥\\\\Img_069_0106.jpg', 'kfood\\\\밥\\\\밥\\\\김밥\\\\Img_069_0985.jpg', 'kfood\\\\밥\\\\밥\\\\김치볶음밥\\\\Img_070_0353.jpg', 'kfood\\\\밥\\\\밥\\\\누룽지\\\\Img_071_0244.jpg', 'kfood\\\\밥\\\\밥\\\\누룽지\\\\Img_071_0284.jpg', 'kfood\\\\밥\\\\밥\\\\비빔밥\\\\Img_072_0194.jpg', 'kfood\\\\밥\\\\밥\\\\비빔밥\\\\Img_072_0552.jpg', 'kfood\\\\밥\\\\밥\\\\비빔밥\\\\Img_072_0557.jpg', 'kfood\\\\밥\\\\밥\\\\비빔밥\\\\Img_072_0943.jpg', 'kfood\\\\밥\\\\밥\\\\잡곡밥\\\\Img_076_0203.jpg', 'kfood\\\\밥\\\\밥\\\\잡곡밥\\\\Img_076_0259.jpg', 'kfood\\\\볶음\\\\볶음\\\\오징어채볶음\\\\Img_087_0180.jpg', 'kfood\\\\쌈\\\\쌈\\\\보쌈\\\\Img_090_0483.jpg', 'kfood\\\\음청류\\\\음청류\\\\식혜\\\\Img_092_0081.jpg', 'kfood\\\\음청류\\\\음청류\\\\식혜\\\\Img_092_0202.jpg', 'kfood\\\\음청류\\\\음청류\\\\식혜\\\\Img_092_0298.jpg', 'kfood\\\\전\\\\전\\\\김치전\\\\Img_100_0344.jpg', 'kfood\\\\전\\\\전\\\\김치전\\\\Img_100_0354.jpg', 'kfood\\\\전\\\\전\\\\김치전\\\\Img_100_0360.jpg', 'kfood\\\\전\\\\전\\\\파전\\\\Img_103_0032.jpg', 'kfood\\\\전\\\\전\\\\파전\\\\Img_103_0284.jpg', 'kfood\\\\전\\\\전\\\\파전\\\\Img_103_0296.jpg', 'kfood\\\\전\\\\전\\\\파전\\\\Img_103_0374.jpg', 'kfood\\\\전\\\\전\\\\파전\\\\Img_103_0465.jpg', 'kfood\\\\전\\\\전\\\\호박전\\\\Img_104_0205.jpg', 'kfood\\\\조림\\\\조림\\\\갈치조림\\\\Img_106_0238.jpg', 'kfood\\\\조림\\\\조림\\\\갈치조림\\\\Img_106_0246.jpg', 'kfood\\\\조림\\\\조림\\\\고등어조림\\\\Img_108_0176.jpg', 'kfood\\\\조림\\\\조림\\\\고등어조림\\\\Img_108_0189.jpg', 'kfood\\\\조림\\\\조림\\\\꽁치조림\\\\Img_109_0110.jpg', 'kfood\\\\조림\\\\조림\\\\꽁치조림\\\\Img_109_0158.jpg', 'kfood\\\\조림\\\\조림\\\\땅콩조림\\\\Img_111_0120.jpg', 'kfood\\\\조림\\\\조림\\\\메추리알장조림\\\\Img_112_0335.jpg', 'kfood\\\\조림\\\\조림\\\\코다리조림\\\\Img_116_0297.jpg', 'kfood\\\\조림\\\\조림\\\\코다리조림\\\\Img_116_0313.jpg', 'kfood\\\\찌개\\\\찌개\\\\김치찌개\\\\Img_119_0327.jpg', 'kfood\\\\찌개\\\\찌개\\\\김치찌개\\\\Img_119_0413.jpg', 'kfood\\\\찌개\\\\찌개\\\\김치찌개\\\\Img_119_0445.jpg', 'kfood\\\\찌개\\\\찌개\\\\닭계장\\\\Img_120_0154.jpg', 'kfood\\\\찌개\\\\찌개\\\\닭계장\\\\Img_120_0238.jpg', 'kfood\\\\찌개\\\\찌개\\\\닭계장\\\\Img_120_0983.jpg', 'kfood\\\\찌개\\\\찌개\\\\된장찌개\\\\Img_122_0056.jpg', 'kfood\\\\찌개\\\\찌개\\\\된장찌개\\\\Img_122_0226.jpg', 'kfood\\\\찌개\\\\찌개\\\\된장찌개\\\\Img_122_0312.jpg', 'kfood\\\\찌개\\\\찌개\\\\된장찌개\\\\Img_122_0359.jpg', 'kfood\\\\찌개\\\\찌개\\\\된장찌개\\\\Img_122_0412.jpg', 'kfood\\\\찌개\\\\찌개\\\\순두부찌개\\\\Img_123_0267.jpg', 'kfood\\\\찌개\\\\찌개\\\\순두부찌개\\\\Img_123_0285.jpg', 'kfood\\\\찌개\\\\찌개\\\\순두부찌개\\\\Img_123_0294.jpg', 'kfood\\\\찌개\\\\찌개\\\\순두부찌개\\\\Img_123_0354.jpg', 'kfood\\\\찌개\\\\찌개\\\\순두부찌개\\\\Img_123_0411.jpg', 'kfood\\\\찌개\\\\찌개\\\\순두부찌개\\\\Img_123_0412.jpg', 'kfood\\\\찜\\\\찜\\\\갈비찜\\\\Img_124_0028.jpg', 'kfood\\\\찜\\\\찜\\\\갈비찜\\\\Img_124_0088.jpg', 'kfood\\\\찜\\\\찜\\\\갈비찜\\\\Img_124_0352.jpg', 'kfood\\\\찜\\\\찜\\\\갈비찜\\\\Img_124_0426.jpg', 'kfood\\\\찜\\\\찜\\\\갈비찜\\\\Img_124_0551.jpg', 'kfood\\\\찜\\\\찜\\\\계란찜\\\\Img_125_0095.jpg', 'kfood\\\\찜\\\\찜\\\\김치찜\\\\Img_126_0278.jpg', 'kfood\\\\찜\\\\찜\\\\김치찜\\\\Img_126_0282.jpg', 'kfood\\\\찜\\\\찜\\\\김치찜\\\\Img_126_0290.jpg', 'kfood\\\\찜\\\\찜\\\\김치찜\\\\Img_126_0300.jpg', 'kfood\\\\찜\\\\찜\\\\김치찜\\\\Img_126_0370.jpg', 'kfood\\\\찜\\\\찜\\\\닭볶음탕\\\\Img_128_0165.jpg', 'kfood\\\\찜\\\\찜\\\\닭볶음탕\\\\Img_128_0201.jpg', 'kfood\\\\찜\\\\찜\\\\닭볶음탕\\\\Img_128_0252.jpg', 'kfood\\\\찜\\\\찜\\\\닭볶음탕\\\\Img_128_0327.jpg', 'kfood\\\\찜\\\\찜\\\\순대\\\\Img_130_0340.jpg', 'kfood\\\\찜\\\\찜\\\\순대\\\\Img_130_0344.jpg', 'kfood\\\\찜\\\\찜\\\\족발\\\\Img_131_0291.jpg', 'kfood\\\\찜\\\\찜\\\\족발\\\\Img_131_0310.jpg', 'kfood\\\\찜\\\\찜\\\\족발\\\\Img_131_0361.jpg', 'kfood\\\\찜\\\\찜\\\\족발\\\\Img_131_0383.jpg', 'kfood\\\\찜\\\\찜\\\\족발\\\\Img_131_0432.jpg', 'kfood\\\\찜\\\\찜\\\\족발\\\\Img_131_0524.jpg', 'kfood\\\\찜\\\\찜\\\\찜닭\\\\Img_132_0607.jpg', 'kfood\\\\찜\\\\찜\\\\해물찜\\\\Img_133_0092.jpg', 'kfood\\\\찜\\\\찜\\\\해물찜\\\\Img_133_0116.jpg', 'kfood\\\\찜\\\\찜\\\\해물찜\\\\Img_133_0259.jpg', 'kfood\\\\찜\\\\찜\\\\해물찜\\\\Img_133_0261.jpg', 'kfood\\\\찜\\\\찜\\\\해물찜\\\\Img_133_0264.jpg', 'kfood\\\\찜\\\\찜\\\\해물찜\\\\Img_133_0340.jpg', 'kfood\\\\찜\\\\찜\\\\해물찜\\\\Img_133_0388.jpg', 'kfood\\\\찜\\\\찜\\\\해물찜\\\\Img_133_0430.jpg', 'kfood\\\\찜\\\\찜\\\\해물찜\\\\Img_133_0999.jpg', 'kfood\\\\탕\\\\탕\\\\갈비탕\\\\Img_134_0229.jpg', 'kfood\\\\탕\\\\탕\\\\갈비탕\\\\Img_134_0240.jpg', 'kfood\\\\탕\\\\탕\\\\갈비탕\\\\Img_134_0301.jpg', 'kfood\\\\탕\\\\탕\\\\갈비탕\\\\Img_134_0324.jpg', 'kfood\\\\탕\\\\탕\\\\갈비탕\\\\Img_134_0991.jpg', 'kfood\\\\탕\\\\탕\\\\감자탕\\\\Img_135_0303.jpg', 'kfood\\\\탕\\\\탕\\\\감자탕\\\\Img_135_0321.jpg', 'kfood\\\\탕\\\\탕\\\\곰탕_설렁탕\\\\Img_136_0002.jpg', 'kfood\\\\탕\\\\탕\\\\곰탕_설렁탕\\\\Img_136_0229.jpg', 'kfood\\\\탕\\\\탕\\\\매운탕\\\\Img_137_0073.jpg', 'kfood\\\\탕\\\\탕\\\\매운탕\\\\Img_137_0159.jpg', 'kfood\\\\탕\\\\탕\\\\삼계탕\\\\Img_138_0347.jpg', 'kfood\\\\탕\\\\탕\\\\삼계탕\\\\Img_138_0392.jpg', 'kfood\\\\탕\\\\탕\\\\삼계탕\\\\Img_138_1002.jpg', 'kfood\\\\탕\\\\탕\\\\추어탕\\\\Img_139_0146.jpg', 'kfood\\\\탕\\\\탕\\\\추어탕\\\\Img_139_0183.jpg', 'kfood\\\\탕\\\\탕\\\\추어탕\\\\Img_139_0211.jpg', 'kfood\\\\탕\\\\탕\\\\추어탕\\\\Img_139_0214.jpg', 'kfood\\\\탕\\\\탕\\\\추어탕\\\\Img_139_0259.jpg', 'kfood\\\\탕\\\\탕\\\\추어탕\\\\Img_139_0268.jpg', 'kfood\\\\탕\\\\탕\\\\추어탕\\\\Img_139_0285.jpg', 'kfood\\\\한과\\\\한과\\\\약과\\\\Img_143_0192.jpg', 'kfood\\\\한과\\\\한과\\\\약과\\\\Img_143_0994.jpg']\n"
     ]
    }
   ],
   "source": [
    "print(None_case)\n",
    "print(None_case_list)"
   ]
  },
  {
   "cell_type": "code",
   "execution_count": null,
   "metadata": {},
   "outputs": [],
   "source": []
  },
  {
   "cell_type": "code",
   "execution_count": 13,
   "metadata": {},
   "outputs": [
    {
     "name": "stdout",
     "output_type": "stream",
     "text": [
      "['kfood\\\\탕\\\\탕\\\\추어탕\\\\Img_139_0641.jpg', 'kfood\\\\탕\\\\탕\\\\추어탕\\\\Img_139_0652.jpg', 'kfood\\\\탕\\\\탕\\\\추어탕\\\\Img_139_0102.jpg', 'kfood\\\\탕\\\\탕\\\\추어탕\\\\Img_139_0014.jpg', 'kfood\\\\탕\\\\탕\\\\추어탕\\\\Img_139_0000.jpg', 'kfood\\\\탕\\\\탕\\\\추어탕\\\\Img_139_0452.jpg', 'kfood\\\\탕\\\\탕\\\\추어탕\\\\Img_139_0876.jpg', 'kfood\\\\탕\\\\탕\\\\추어탕\\\\Img_139_0084.jpg', 'kfood\\\\탕\\\\탕\\\\추어탕\\\\Img_139_0653.jpg', 'kfood\\\\탕\\\\탕\\\\추어탕\\\\Img_139_0400.jpg', 'kfood\\\\탕\\\\탕\\\\추어탕\\\\Img_139_0772.jpg', 'kfood\\\\탕\\\\탕\\\\추어탕\\\\Img_139_0295.jpg', 'kfood\\\\탕\\\\탕\\\\추어탕\\\\Img_139_0775.jpg', 'kfood\\\\탕\\\\탕\\\\추어탕\\\\Img_139_0770.jpg', 'kfood\\\\탕\\\\탕\\\\추어탕\\\\Img_139_0386.jpg', 'kfood\\\\탕\\\\탕\\\\추어탕\\\\Img_139_0367.jpg', 'kfood\\\\탕\\\\탕\\\\추어탕\\\\Img_139_0941.jpg', 'kfood\\\\탕\\\\탕\\\\추어탕\\\\Img_139_0753.jpg', 'kfood\\\\탕\\\\탕\\\\추어탕\\\\Img_139_0640.jpg', 'kfood\\\\탕\\\\탕\\\\추어탕\\\\Img_139_0376.jpg', 'kfood\\\\탕\\\\탕\\\\추어탕\\\\Img_139_0635.jpg', 'kfood\\\\탕\\\\탕\\\\추어탕\\\\Img_139_0852.jpg', 'kfood\\\\탕\\\\탕\\\\추어탕\\\\Img_139_0187.jpg', 'kfood\\\\탕\\\\탕\\\\추어탕\\\\Img_139_0771.jpg', 'kfood\\\\탕\\\\탕\\\\추어탕\\\\Img_139_0687.jpg', 'kfood\\\\탕\\\\탕\\\\추어탕\\\\Img_139_0915.jpg', 'kfood\\\\탕\\\\탕\\\\추어탕\\\\Img_139_0633.jpg', 'kfood\\\\탕\\\\탕\\\\추어탕\\\\Img_139_0053.jpg', 'kfood\\\\탕\\\\탕\\\\추어탕\\\\Img_139_0839.jpg', 'kfood\\\\탕\\\\탕\\\\추어탕\\\\Img_139_0378.jpg', 'kfood\\\\탕\\\\탕\\\\추어탕\\\\Img_139_0254.jpg', 'kfood\\\\탕\\\\탕\\\\추어탕\\\\Img_139_0389.jpg', 'kfood\\\\탕\\\\탕\\\\추어탕\\\\Img_139_0978.jpg', 'kfood\\\\탕\\\\탕\\\\추어탕\\\\Img_139_0445.jpg', 'kfood\\\\탕\\\\탕\\\\추어탕\\\\Img_139_0087.jpg', 'kfood\\\\탕\\\\탕\\\\추어탕\\\\Img_139_0093.jpg', 'kfood\\\\탕\\\\탕\\\\추어탕\\\\Img_139_0143.jpg', 'kfood\\\\탕\\\\탕\\\\추어탕\\\\Img_139_0999.jpg', 'kfood\\\\탕\\\\탕\\\\추어탕\\\\Img_139_0663.jpg', 'kfood\\\\탕\\\\탕\\\\추어탕\\\\Img_139_0658.jpg', 'kfood\\\\탕\\\\탕\\\\추어탕\\\\Img_139_0938.jpg', 'kfood\\\\탕\\\\탕\\\\추어탕\\\\Img_139_0413.jpg', 'kfood\\\\탕\\\\탕\\\\추어탕\\\\Img_139_0518.jpg', 'kfood\\\\탕\\\\탕\\\\추어탕\\\\Img_139_0726.jpg', 'kfood\\\\탕\\\\탕\\\\추어탕\\\\Img_139_0446.jpg', 'kfood\\\\탕\\\\탕\\\\추어탕\\\\Img_139_0629.jpg', 'kfood\\\\탕\\\\탕\\\\추어탕\\\\Img_139_0359.jpg', 'kfood\\\\탕\\\\탕\\\\추어탕\\\\Img_139_0418.jpg', 'kfood\\\\탕\\\\탕\\\\추어탕\\\\Img_139_0050.jpg', 'kfood\\\\탕\\\\탕\\\\추어탕\\\\Img_139_0410.jpg', 'kfood\\\\탕\\\\탕\\\\추어탕\\\\Img_139_0330.jpg', 'kfood\\\\탕\\\\탕\\\\추어탕\\\\Img_139_0959.jpg', 'kfood\\\\탕\\\\탕\\\\추어탕\\\\Img_139_0027.png', 'kfood\\\\탕\\\\탕\\\\추어탕\\\\Img_139_0049.jpg', 'kfood\\\\탕\\\\탕\\\\추어탕\\\\Img_139_0390.jpg', 'kfood\\\\탕\\\\탕\\\\추어탕\\\\Img_139_0874.jpg', 'kfood\\\\탕\\\\탕\\\\추어탕\\\\Img_139_0356.jpg', 'kfood\\\\탕\\\\탕\\\\추어탕\\\\Img_139_0393.jpg', 'kfood\\\\탕\\\\탕\\\\추어탕\\\\Img_139_0705.jpg', 'kfood\\\\탕\\\\탕\\\\추어탕\\\\Img_139_0096.jpg', 'kfood\\\\탕\\\\탕\\\\추어탕\\\\Img_139_0253.jpg', 'kfood\\\\탕\\\\탕\\\\추어탕\\\\Img_139_0165.jpg', 'kfood\\\\탕\\\\탕\\\\추어탕\\\\Img_139_0402.jpg', 'kfood\\\\탕\\\\탕\\\\추어탕\\\\Img_139_0627.jpg', 'kfood\\\\탕\\\\탕\\\\추어탕\\\\Img_139_0321.jpg', 'kfood\\\\탕\\\\탕\\\\추어탕\\\\Img_139_0058.jpg', 'kfood\\\\탕\\\\탕\\\\추어탕\\\\Img_139_0103.jpg', 'kfood\\\\탕\\\\탕\\\\추어탕\\\\Img_139_0045.jpg', 'kfood\\\\탕\\\\탕\\\\추어탕\\\\Img_139_0099.jpg', 'kfood\\\\탕\\\\탕\\\\추어탕\\\\Img_139_0918.jpg', 'kfood\\\\탕\\\\탕\\\\추어탕\\\\Img_139_0986.jpg', 'kfood\\\\탕\\\\탕\\\\추어탕\\\\Img_139_0962.jpg', 'kfood\\\\탕\\\\탕\\\\추어탕\\\\Img_139_0301.jpg', 'kfood\\\\탕\\\\탕\\\\추어탕\\\\Img_139_0126.jpg', 'kfood\\\\탕\\\\탕\\\\추어탕\\\\Img_139_0482.jpg', 'kfood\\\\탕\\\\탕\\\\추어탕\\\\Img_139_0767.jpg', 'kfood\\\\탕\\\\탕\\\\추어탕\\\\Img_139_0977.jpg', 'kfood\\\\탕\\\\탕\\\\추어탕\\\\Img_139_0558.jpg', 'kfood\\\\탕\\\\탕\\\\추어탕\\\\Img_139_0832.jpg', 'kfood\\\\탕\\\\탕\\\\추어탕\\\\Img_139_0708.jpg', 'kfood\\\\탕\\\\탕\\\\추어탕\\\\Img_139_0949.jpg', 'kfood\\\\탕\\\\탕\\\\추어탕\\\\Img_139_0980.jpg', 'kfood\\\\탕\\\\탕\\\\추어탕\\\\Img_139_0042.jpg', 'kfood\\\\탕\\\\탕\\\\추어탕\\\\Img_139_0696.jpg', 'kfood\\\\탕\\\\탕\\\\추어탕\\\\Img_139_0278.jpg', 'kfood\\\\탕\\\\탕\\\\추어탕\\\\Img_139_0333.jpg', 'kfood\\\\탕\\\\탕\\\\추어탕\\\\Img_139_0956.jpg', 'kfood\\\\탕\\\\탕\\\\추어탕\\\\Img_139_0671.jpg', 'kfood\\\\탕\\\\탕\\\\추어탕\\\\Img_139_0766.jpg', 'kfood\\\\탕\\\\탕\\\\추어탕\\\\Img_139_0013.jpg', 'kfood\\\\탕\\\\탕\\\\추어탕\\\\Img_139_0149.jpg', 'kfood\\\\탕\\\\탕\\\\추어탕\\\\Img_139_0462.jpg', 'kfood\\\\탕\\\\탕\\\\추어탕\\\\Img_139_0712.jpg', 'kfood\\\\탕\\\\탕\\\\추어탕\\\\Img_139_0164.jpg', 'kfood\\\\탕\\\\탕\\\\추어탕\\\\Img_139_0246.jpg', 'kfood\\\\탕\\\\탕\\\\추어탕\\\\Img_139_0166.jpg', 'kfood\\\\탕\\\\탕\\\\추어탕\\\\Img_139_0471.jpg', 'kfood\\\\탕\\\\탕\\\\추어탕\\\\Img_139_0213.jpg', 'kfood\\\\탕\\\\탕\\\\추어탕\\\\Img_139_0800.jpg', 'kfood\\\\탕\\\\탕\\\\추어탕\\\\Img_139_0236.jpg']\n"
     ]
    }
   ],
   "source": [
    "# 우선 각 소분류 음식마다 모든 데이터 path가 저장된 dict을 만든다 (train용 하나, test용 하나)\n",
    "# loader가 idx, (food_id, food_path_list) in data_dict() 하면 \n",
    "# sample_data에서 전달받은 food_path_list에서 cv2로 이미지를 로드하고 (이미지데이터 리스트) 를 넘겨준다 (if shuffle=True 이면 shuffle)\n",
    "# loader는 전달받은 리스트를 배치 갯수만큼 끊어서 target_id와 함께 yield 한다\n",
    "\n",
    "train_dict = dict()\n",
    "test_dict = dict()\n",
    "\n",
    "for small_food in small_category_path_dict : \n",
    "    total_img = os.listdir(small_category_path_dict[small_food])\n",
    "    list = []\n",
    "    for food_img in total_img : \n",
    "        root, ext = os.path.splitext(food_img)\n",
    "        if ext not in ['.jpg', '.png', 'jpeg'] :\n",
    "            continue\n",
    "        path = os.path.join(base_path, small_to_large_dict[small_food], small_to_large_dict[small_food], small_food, food_img)\n",
    "        if path in None_case_list : \n",
    "            continue\n",
    "        target = small_category_id_dict[small_food]\n",
    "        list.append(path)\n",
    "    np.random.shuffle(list)\n",
    "    train_dict[target] = list[100:]\n",
    "    test_dict[target] = list[:100]\n",
    "\n",
    "print(test_dict[small_category_id_dict['추어탕']])\n",
    "        "
   ]
  },
  {
   "cell_type": "code",
   "execution_count": 14,
   "metadata": {},
   "outputs": [],
   "source": [
    "def sample_data(data_path_list, shuffle=False) :\n",
    "    total_num = len(data_path_list)\n",
    "    img_idx = np.arange(total_num)\n",
    "    if shuffle :\n",
    "        np.random.shuffle(img_idx)\n",
    "        \n",
    "    list = []\n",
    "    for idx in img_idx :\n",
    "        path = data_path_list[idx]\n",
    "        if path in None_case_list : \n",
    "            continue\n",
    "        img = CV_READ(path, mode = cv2.IMREAD_GRAYSCALE)\n",
    "        img = cv2.resize(img, dsize=(64, 64), interpolation=cv2.INTER_AREA)\n",
    "        img = np.expand_dims(img, axis=0)\n",
    "        list.append(img)\n",
    "    \n",
    "    list = np.array(list)\n",
    "    return list"
   ]
  },
  {
   "cell_type": "code",
   "execution_count": 27,
   "metadata": {},
   "outputs": [],
   "source": [
    "def data_loader(data_dict, batch_size, shuffle=False) : \n",
    "    total_img = []\n",
    "    total_food_id = []\n",
    "    for idx, (food_id, food_path_list) in enumerate(data_dict.items()) :\n",
    "        img_data_list = sample_data(food_path_list, shuffle)\n",
    "        for cur_img in img_data_list : \n",
    "            total_img.append((food_id, cur_img))\n",
    "    \n",
    "    total_num = len(total_img)\n",
    "    total_idxs = np.arange(total_num)\n",
    "    if shuffle:\n",
    "        np.random.shuffle(total_idxs)\n",
    "        \n",
    "    for start_idx in range(0, total_num, batch_size) :\n",
    "        end_idx = start_idx + batch_size\n",
    "        index_list = total_idxs[start_idx:end_idx]\n",
    "        \n",
    "        id = []\n",
    "        x = []\n",
    "        \n",
    "        for cur_idx in index_list : \n",
    "            food_id, food_img = total_img[cur_idx]\n",
    "            id.append(int(food_id))\n",
    "            x.append(food_img)\n",
    "        \n",
    "        yield id, x\n",
    "    "
   ]
  },
  {
   "cell_type": "code",
   "execution_count": 36,
   "metadata": {},
   "outputs": [],
   "source": [
    "# model\n",
    "class CNN(nn.Module):\n",
    "    def __init__(self, args):\n",
    "        super().__init__()\n",
    "        self.conv1 = nn.Conv2d(1, 16, kernel_size=6, stride=2, padding=2)\n",
    "        self.pool = nn.MaxPool2d(2, 2)\n",
    "        self.conv2 = nn.Conv2d(16, 32, kernel_size=6, stride=2, padding=2)\n",
    "        self.fc1 = nn.Linear(512, 512)\n",
    "        self.fc2 = nn.Linear(512, 256)\n",
    "        self.fc3 = nn.Linear(256, 150)\n",
    "\n",
    "    def forward(self, x):\n",
    "        x = self.pool(F.relu(self.conv1(x)))\n",
    "        x = self.pool(F.relu(self.conv2(x)))\n",
    "        x = x.reshape(x.size(0), -1) # flatten all dimensions except batch\n",
    "        x = F.relu(self.fc1(x))\n",
    "        x = F.relu(self.fc2(x))\n",
    "        x = self.fc3(x)\n",
    "        return x"
   ]
  },
  {
   "cell_type": "code",
   "execution_count": 37,
   "metadata": {},
   "outputs": [],
   "source": [
    "def id_to_onehot(id, total_range) : \n",
    "    onehots = []\n",
    "    for i in id : \n",
    "        l = np.zeros((total_range))\n",
    "        l[int(i)] = 1.0\n",
    "        onehots.append(l)\n",
    "    onehots = np.array(onehots)\n",
    "    return torch.Tensor(onehots).long().cuda() "
   ]
  },
  {
   "cell_type": "code",
   "execution_count": 38,
   "metadata": {},
   "outputs": [],
   "source": [
    "class Trainer():\n",
    "    def __init__(self, args):\n",
    "        self.args = args\n",
    "        \n",
    "        self.model = CNN(args)\n",
    "        if torch.cuda.is_available():\n",
    "            self.model.cuda()\n",
    "        self.loss = nn.CrossEntropyLoss()\n",
    "        self.optim = torch.optim.Adam(self.model.parameters(), lr = 0.001)\n",
    "        self.device = torch.device(\"cuda:0\" if torch.cuda.is_available() else \"cpu\")\n",
    "        \n",
    "    def train(self):\n",
    "        # train\n",
    "        opt_epoch = 1\n",
    "        min_val_loss = 1e9\n",
    "        for epoch in range(self.args.epoch):\n",
    "            train_loader = data_loader(train_dict, 10, shuffle=True)\n",
    "            for id, x in train_loader :\n",
    "                inputs = torch.tensor(x).to(device=self.device, dtype=torch.float)\n",
    "                label = torch.tensor(id).to(device=self.device)\n",
    "                \n",
    "                pred = self.model(inputs)\n",
    "                loss = self.loss(pred, label)\n",
    "                \n",
    "                self.optim.zero_grad()\n",
    "                loss.backward()\n",
    "                self.optim.step()\n",
    "            \n",
    "            if (epoch+1)%50 == 0 :\n",
    "                val_loss = self.validate()\n",
    "                print ('Validation Loss: {:.20f}'.format(val_loss))\n",
    "                if val_loss < min_val_loss:\n",
    "                    min_val_loss = val_loss\n",
    "                    opt_epoch = epoch+1\n",
    "                \n",
    "            print(f'{epoch}: {loss}')\n",
    "            torch.save(self.model.state_dict(), 'checkpoint' + str(epoch+1) + '.pt')\n",
    "        print(\"Best Epoch : {}\".format(opt_epoch))\n",
    "\n",
    "    def validate(self) : \n",
    "        val_loader = data_loader(test_dict, 10, shuffle=True)\n",
    "        self.model.eval()\n",
    "        total_loss = 0\n",
    "        total_step = 0\n",
    "        with torch.no_grad() :\n",
    "            for id, x in val_loader : \n",
    "                id = int(id)\n",
    "                inputs = torch.tensor(x).to(device=self.device, dtype=torch.float)\n",
    "                label = torch.tensor(id).to(device=self.device)\n",
    "\n",
    "                pred = self.model(inputs)\n",
    "                loss = self.loss(pred, label)\n",
    "                total_loss += loss.item()\n",
    "                total_step += 1\n",
    "        return total_loss / total_step\n",
    "                \n",
    "    def test(self):\n",
    "        # test\n",
    "        self.model.load_state_dict(torch.load(self.args.ckpt))"
   ]
  },
  {
   "cell_type": "code",
   "execution_count": 39,
   "metadata": {},
   "outputs": [],
   "source": [
    "\n",
    "from easydict import EasyDict\n",
    "def get_args():\n",
    "    args = EasyDict({\n",
    "        \"epoch\":100,\n",
    "        \"batch_size\":10,\n",
    "        \"mode\":'train',\n",
    "        \"ckpt\":1,\n",
    "        \"device\":'cuda'\n",
    "    })\n",
    "    return args"
   ]
  },
  {
   "cell_type": "code",
   "execution_count": null,
   "metadata": {},
   "outputs": [],
   "source": [
    "args = get_args()\n",
    "trainer = Trainer(args)\n",
    "\n",
    "if args.mode == 'train':\n",
    "    trainer.train()\n",
    "else:\n",
    "    trainer.test()"
   ]
  },
  {
   "cell_type": "code",
   "execution_count": null,
   "metadata": {},
   "outputs": [],
   "source": []
  },
  {
   "cell_type": "code",
   "execution_count": null,
   "metadata": {},
   "outputs": [],
   "source": []
  }
 ],
 "metadata": {
  "interpreter": {
   "hash": "f53d89161f620bec7f3dae69540a16a389f21ba1b2ef26af02e3b36c55a2c22f"
  },
  "kernelspec": {
   "display_name": "Python 3 (ipykernel)",
   "language": "python",
   "name": "python3"
  },
  "language_info": {
   "codemirror_mode": {
    "name": "ipython",
    "version": 3
   },
   "file_extension": ".py",
   "mimetype": "text/x-python",
   "name": "python",
   "nbconvert_exporter": "python",
   "pygments_lexer": "ipython3",
   "version": "3.9.7"
  }
 },
 "nbformat": 4,
 "nbformat_minor": 2
}
